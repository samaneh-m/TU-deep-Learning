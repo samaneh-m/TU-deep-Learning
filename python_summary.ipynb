{
  "cells": [
    {
      "cell_type": "markdown",
      "metadata": {
        "id": "view-in-github",
        "colab_type": "text"
      },
      "source": [
        "<a href=\"https://colab.research.google.com/github/samaneh-m/TU-deep-Learning/blob/main/python_summary.ipynb\" target=\"_parent\"><img src=\"https://colab.research.google.com/assets/colab-badge.svg\" alt=\"Open In Colab\"/></a>"
      ]
    },
    {
      "cell_type": "markdown",
      "metadata": {
        "id": "gT5ikwkEfTtd"
      },
      "source": [
        "# Intro to Python for Machine Learning\n",
        "\n",
        "Authors: Marc Höftmann, Tobias Uelwer"
      ]
    },
    {
      "cell_type": "markdown",
      "metadata": {
        "collapsed": true,
        "id": "_usvz4l4fTtd"
      },
      "source": [
        "# Python Refresher\n",
        "\n",
        "This notebook provides simple code examples covering basic Python syntax and commonly used packages in this course.\n",
        "If you'd like to explore any of these topics in more depth, the following links are a great place to start:\n",
        "\n",
        "- [NumPy documentation](https://numpy.org/doc/) — array manipulation, mathematical operations, and more.\n",
        "- [NumPy indexing and slicing guide](https://numpy.org/doc/stable/user/basics.indexing.html) — understanding how to access and modify data in arrays.\n",
        "- [Broadcasting in NumPy](https://numpy.org/doc/stable/user/basics.broadcasting.html) — how NumPy handles operations on arrays of different shapes.\n",
        "- [Scikit-learn: Working with the Iris Dataset](https://scikit-learn.org/stable/auto_examples/datasets/plot_iris_dataset.html) — intro to datasets and simple visualizations.\n",
        "- [Pandas documentation](https://pandas.pydata.org/docs/) — working with tabular data and the DataFrame structure.\n",
        "- [Matplotlib scatter plot tutorial](https://matplotlib.org/stable/gallery/lines_bars_and_markers/scatter.html) — plotting with `plt.scatter` and customizing visual output.\n",
        "\n",
        "You can install Python 3 and the package manager PIP to install all relevant python libraries.\n",
        "You can also use a distribution that already contains lots of packages, e.g.\n",
        "Anaconda: https://www.continuum.io/downloads\n",
        "\n"
      ]
    },
    {
      "cell_type": "code",
      "execution_count": 1,
      "metadata": {
        "colab": {
          "base_uri": "https://localhost:8080/"
        },
        "id": "D5cP7Gx9fTte",
        "outputId": "67760611-7e7b-4908-a04c-6feabe8efd8c"
      },
      "outputs": [
        {
          "output_type": "stream",
          "name": "stdout",
          "text": [
            "<class 'str'>\n",
            "<class 'int'>\n"
          ]
        }
      ],
      "source": [
        "# dynamic typing\n",
        "a = \"abc\"\n",
        "print(type(a))\n",
        "\n",
        "a = 1\n",
        "print(type(a))"
      ]
    },
    {
      "cell_type": "code",
      "execution_count": 3,
      "metadata": {
        "colab": {
          "base_uri": "https://localhost:8080/"
        },
        "id": "5KkRocw9fTte",
        "outputId": "ac37e9b7-818b-4421-b5f0-3995f14b4f93"
      },
      "outputs": [
        {
          "output_type": "stream",
          "name": "stdout",
          "text": [
            "3/5\n",
            "47/63\n",
            "0.15\n",
            "2.5\n"
          ]
        }
      ],
      "source": [
        "import fractions as f\n",
        "print(f.Fraction(2,3)*(f.Fraction(4,5) + f.Fraction(1,2)*f.Fraction(1,5)))\n",
        "\n",
        "print((f.Fraction(1,3) + f.Fraction(17,63) + f.Fraction(1,7)))\n",
        "\n",
        "print(3/20)\n",
        "\n",
        "\n",
        "print(3/1.2)"
      ]
    },
    {
      "cell_type": "code",
      "execution_count": 4,
      "metadata": {
        "colab": {
          "base_uri": "https://localhost:8080/"
        },
        "id": "njGXqZLefTte",
        "outputId": "90dcbcbf-bd2f-4a27-dc82-b24e40276f59"
      },
      "outputs": [
        {
          "output_type": "stream",
          "name": "stdout",
          "text": [
            "3/4\n"
          ]
        }
      ],
      "source": [
        "print(f.Fraction(5,8)/ (f.Fraction(2,3) + f.Fraction(1,3) * f.Fraction(1,2)))"
      ]
    },
    {
      "cell_type": "code",
      "execution_count": 5,
      "metadata": {
        "colab": {
          "base_uri": "https://localhost:8080/"
        },
        "id": "QS6hFr2efTte",
        "outputId": "4c97400b-c349-4f3b-ab7a-52e7002314f3"
      },
      "outputs": [
        {
          "output_type": "stream",
          "name": "stdout",
          "text": [
            "a is 1\n"
          ]
        }
      ],
      "source": [
        "if(a == 1):\n",
        "    print('a is 1')\n",
        "elif(a == 2):\n",
        "    print('a is 2')\n",
        "else:\n",
        "    print('a is not 1')"
      ]
    },
    {
      "cell_type": "markdown",
      "metadata": {
        "id": "owLMhB2ufTte"
      },
      "source": [
        "### Loops"
      ]
    },
    {
      "cell_type": "code",
      "execution_count": 6,
      "metadata": {
        "colab": {
          "base_uri": "https://localhost:8080/"
        },
        "id": "KQDywWW9fTte",
        "outputId": "cfb3549c-82f3-41ad-80f4-76d5d0a85704"
      },
      "outputs": [
        {
          "output_type": "stream",
          "name": "stdout",
          "text": [
            "3\n",
            "5\n",
            "7\n",
            "9\n"
          ]
        }
      ],
      "source": [
        "# for-loops\n",
        "for i in range(3,10,2): #range(start, stop, step)\n",
        "    print(i)"
      ]
    },
    {
      "cell_type": "code",
      "execution_count": null,
      "metadata": {
        "id": "CrDRJimEfTte"
      },
      "outputs": [],
      "source": [
        "# while-loop\n",
        "j = 3\n",
        "while j>0:\n",
        "    print(j)\n",
        "    j -= 1\n",
        ""
      ]
    },
    {
      "cell_type": "markdown",
      "metadata": {
        "id": "3aK8rDhWfTte"
      },
      "source": [
        "### Lists"
      ]
    },
    {
      "cell_type": "code",
      "execution_count": 8,
      "metadata": {
        "colab": {
          "base_uri": "https://localhost:8080/"
        },
        "id": "o-b3ND9ofTte",
        "outputId": "e15f943e-ae7f-473f-a74a-e612d20ba662"
      },
      "outputs": [
        {
          "output_type": "stream",
          "name": "stdout",
          "text": [
            "1\n",
            "a\n",
            "b\n",
            "33\n"
          ]
        }
      ],
      "source": [
        "# iterate over lists\n",
        "l = [1, 'a', 'b', 33]\n",
        "for i in l:\n",
        "    print(i)"
      ]
    },
    {
      "cell_type": "code",
      "execution_count": 9,
      "metadata": {
        "colab": {
          "base_uri": "https://localhost:8080/"
        },
        "id": "evW3alBhfTte",
        "outputId": "27f794fa-c242-465d-a857-d653e9745177"
      },
      "outputs": [
        {
          "output_type": "execute_result",
          "data": {
            "text/plain": [
              "['a', 'b']"
            ]
          },
          "metadata": {},
          "execution_count": 9
        }
      ],
      "source": [
        "# access list\n",
        "l[1:3] #list slicing _ list[start:end:step] *it stop before index 3"
      ]
    },
    {
      "cell_type": "code",
      "execution_count": 10,
      "metadata": {
        "scrolled": true,
        "colab": {
          "base_uri": "https://localhost:8080/"
        },
        "id": "Bzdktk7gfTte",
        "outputId": "f3780cf0-926e-4ae3-a435-1ecf869da4fd"
      },
      "outputs": [
        {
          "output_type": "stream",
          "name": "stdout",
          "text": [
            "[1, 'a', 'b', 33]\n",
            "[1, 'a', 'b', 33, '<3']\n"
          ]
        }
      ],
      "source": [
        "print(l)\n",
        "l.append('<3')\n",
        "print(l)"
      ]
    },
    {
      "cell_type": "code",
      "execution_count": 11,
      "metadata": {
        "colab": {
          "base_uri": "https://localhost:8080/"
        },
        "id": "cmBzZTQYfTte",
        "outputId": "c11e781b-8616-47cd-acf1-703fa1e64591"
      },
      "outputs": [
        {
          "output_type": "stream",
          "name": "stdout",
          "text": [
            "[0, 1, 2, 3, 4, 5, 6, 7, 8, 9]\n"
          ]
        }
      ],
      "source": [
        "# list comprehension\n",
        "a = [i for i in range(10)]\n",
        "print(a)"
      ]
    },
    {
      "cell_type": "code",
      "execution_count": 12,
      "metadata": {
        "colab": {
          "base_uri": "https://localhost:8080/"
        },
        "id": "gfRJb0HYfTte",
        "outputId": "40e8eef7-3bdb-4f14-f1b6-90f14aac9a2b"
      },
      "outputs": [
        {
          "output_type": "stream",
          "name": "stdout",
          "text": [
            "[0, 8, 16, 24, 32]\n"
          ]
        }
      ],
      "source": [
        "b = [i*4 for i in range(0,10,2)]\n",
        "print(b)"
      ]
    },
    {
      "cell_type": "code",
      "execution_count": 13,
      "metadata": {
        "colab": {
          "base_uri": "https://localhost:8080/"
        },
        "id": "axWd683JfTte",
        "outputId": "1bbbc3b4-a090-49c7-d5f0-66bb194aa5a7"
      },
      "outputs": [
        {
          "output_type": "stream",
          "name": "stdout",
          "text": [
            "[0, 0, 0, 24, 0]\n"
          ]
        }
      ],
      "source": [
        "c = [i*4 if i*4 % 3 == 0 else 0 for i in range(0,10,2)]\n",
        "print(c)"
      ]
    },
    {
      "cell_type": "code",
      "execution_count": 14,
      "metadata": {
        "colab": {
          "base_uri": "https://localhost:8080/"
        },
        "id": "WH67IKCYfTte",
        "outputId": "8b6e4ef0-194f-48b1-f2e0-a577ca556948"
      },
      "outputs": [
        {
          "output_type": "stream",
          "name": "stdout",
          "text": [
            "[0, 1, 2, 3, 4, 5, 6, 7, 8, 9]\n",
            "[9, 8, 7, 6, 5, 4, 3, 2, 1, 0]\n"
          ]
        }
      ],
      "source": [
        "print(a)\n",
        "d = list(reversed(a))\n",
        "print(d)"
      ]
    },
    {
      "cell_type": "code",
      "execution_count": 15,
      "metadata": {
        "colab": {
          "base_uri": "https://localhost:8080/"
        },
        "id": "RfxXKl6yfTte",
        "outputId": "81b25c92-d746-43a0-cf06-a56857fc8f25"
      },
      "outputs": [
        {
          "output_type": "stream",
          "name": "stdout",
          "text": [
            "[0, 1, 2, 3, 4, 5, 6, 7, 8, 9]\n"
          ]
        }
      ],
      "source": [
        "e = sorted(d)\n",
        "print(e)"
      ]
    },
    {
      "cell_type": "markdown",
      "metadata": {
        "id": "eRlUBymEfTte"
      },
      "source": [
        "### Dictionaries"
      ]
    },
    {
      "cell_type": "code",
      "execution_count": 16,
      "metadata": {
        "colab": {
          "base_uri": "https://localhost:8080/"
        },
        "id": "MOc98kiufTte",
        "outputId": "c5c9e8a2-8847-4ad9-e6fc-e15e366fbda9"
      },
      "outputs": [
        {
          "output_type": "stream",
          "name": "stdout",
          "text": [
            "{'brand': 'Ford', 'model': 'Mustang', 'year': 1964}\n"
          ]
        }
      ],
      "source": [
        "# key value storage (needs hashable key e.g. string, number etc.)\n",
        "dictionary = {\n",
        "  \"brand\": \"Ford\",\n",
        "  \"model\": \"Mustang\",\n",
        "  \"year\": 1964\n",
        "}\n",
        "print(dictionary)"
      ]
    },
    {
      "cell_type": "code",
      "execution_count": 17,
      "metadata": {
        "colab": {
          "base_uri": "https://localhost:8080/",
          "height": 35
        },
        "id": "9CgX2QqkfTte",
        "outputId": "39894c73-7ee2-4abe-cc4f-9e8a09fca5f4"
      },
      "outputs": [
        {
          "output_type": "execute_result",
          "data": {
            "text/plain": [
              "'Mustang'"
            ],
            "application/vnd.google.colaboratory.intrinsic+json": {
              "type": "string"
            }
          },
          "metadata": {},
          "execution_count": 17
        }
      ],
      "source": [
        "# get a value\n",
        "dictionary[\"model\"]"
      ]
    },
    {
      "cell_type": "code",
      "execution_count": 18,
      "metadata": {
        "colab": {
          "base_uri": "https://localhost:8080/"
        },
        "id": "SxlYr7UZfTtf",
        "outputId": "01f65caa-bf4f-43a9-f7ad-dc8bb9948d96"
      },
      "outputs": [
        {
          "output_type": "stream",
          "name": "stdout",
          "text": [
            "{'brand': 'Ford', 'model': 'Focus', 'year': 1964, 'colour': 'Black'}\n"
          ]
        }
      ],
      "source": [
        "# add new key-value pair\n",
        "dictionary[\"colour\"] = \"Black\"\n",
        "# change/overwrite key-value pair\n",
        "dictionary[\"model\"] = \"Focus\"\n",
        "print(dictionary)"
      ]
    },
    {
      "cell_type": "code",
      "execution_count": 19,
      "metadata": {
        "colab": {
          "base_uri": "https://localhost:8080/"
        },
        "id": "OAAEOwMyfTtf",
        "outputId": "7da6effe-6ce9-40cb-e011-40bd8ee7817f"
      },
      "outputs": [
        {
          "output_type": "stream",
          "name": "stdout",
          "text": [
            "brand : Ford\n",
            "model : Focus\n",
            "year : 1964\n",
            "colour : Black\n"
          ]
        }
      ],
      "source": [
        "# get all keys\n",
        "#print(dictionary.keys())\n",
        "for i in dictionary.keys():\n",
        "    print(i,':' ,dictionary[i])"
      ]
    },
    {
      "cell_type": "code",
      "execution_count": 20,
      "metadata": {
        "colab": {
          "base_uri": "https://localhost:8080/"
        },
        "id": "mBvH0CpSfTtf",
        "outputId": "85f250fc-5859-442f-cf17-73b5f45cf560"
      },
      "outputs": [
        {
          "output_type": "stream",
          "name": "stdout",
          "text": [
            "{'brand': 'Ford', 'model': 'Focus', 'year': 1964}\n"
          ]
        }
      ],
      "source": [
        "# delete key\n",
        "del dictionary[\"colour\"]\n",
        "print(dictionary)"
      ]
    },
    {
      "cell_type": "markdown",
      "metadata": {
        "id": "xgSgX1IqfTtf"
      },
      "source": [
        "### Tuples"
      ]
    },
    {
      "cell_type": "code",
      "execution_count": 22,
      "metadata": {
        "colab": {
          "base_uri": "https://localhost:8080/"
        },
        "id": "vM-5Wy1VfTtf",
        "outputId": "cc735c23-69a8-4f42-9ce6-4ecc92d32c0a"
      },
      "outputs": [
        {
          "output_type": "stream",
          "name": "stdout",
          "text": [
            "(1, 1, True, ':)')\n",
            "length: 4\n"
          ]
        }
      ],
      "source": [
        "# tuples\n",
        "# static _ it defines with paranthesis _ tuples are immutable.\n",
        "#This means that once a tuple is created, you cannot change its elements, add new elements, or remove existing elements.\n",
        "t = (1,1,True,\":)\")\n",
        "print(t)\n",
        "print(\"length:\", len(t))"
      ]
    },
    {
      "cell_type": "code",
      "execution_count": 23,
      "metadata": {
        "colab": {
          "base_uri": "https://localhost:8080/"
        },
        "id": "yXy-YQMefTtf",
        "outputId": "d5a33221-56b2-4d15-b9bf-8a5623c9cf71"
      },
      "outputs": [
        {
          "output_type": "stream",
          "name": "stdout",
          "text": [
            "forward:  1 1 | backward:  :) True 1 1\n"
          ]
        }
      ],
      "source": [
        "# t[-1] access elements from the end of the tuple.\n",
        "print(\"forward: \", t[0], t[1],\"| backward: \", t[-1], t[-2], t[-3], t[-4])"
      ]
    },
    {
      "cell_type": "code",
      "execution_count": null,
      "metadata": {
        "id": "BbeRehycfTtf"
      },
      "outputs": [],
      "source": [
        "# error handling\n",
        "try:\n",
        "    t[0] = 2\n",
        "except:\n",
        "    print('Tuple items are ordered, unchangeable, and allow duplicate values.')"
      ]
    },
    {
      "cell_type": "markdown",
      "metadata": {
        "id": "fBIn2Xu0fTtf"
      },
      "source": [
        "### Sets"
      ]
    },
    {
      "cell_type": "code",
      "execution_count": null,
      "metadata": {
        "id": "BbDf_FdJfTtf"
      },
      "outputs": [],
      "source": [
        "# set items are unordered, unchangeable, and do not allow duplicate values\n",
        "myset = {\"apple\", \"banana\", \"cherry\", 1, True} # 1 == True#\n",
        "print(myset, \"length:\",len(myset))\n"
      ]
    },
    {
      "cell_type": "code",
      "execution_count": null,
      "metadata": {
        "id": "t5Gob2nrfTtf"
      },
      "outputs": [],
      "source": [
        "print(\"apple\" in myset)\n",
        "print(False in myset)\n",
        "\n",
        "myset.union(myset)"
      ]
    },
    {
      "cell_type": "markdown",
      "metadata": {
        "id": "ZmRtgD0SfTtf"
      },
      "source": [
        "### Functions"
      ]
    },
    {
      "cell_type": "code",
      "execution_count": null,
      "metadata": {
        "id": "Jm34DaTifTtf"
      },
      "outputs": [],
      "source": [
        "# functions\n",
        "def my_add(a=10,b=10):\n",
        "    return(a-b)\n",
        "my_add()"
      ]
    },
    {
      "cell_type": "code",
      "execution_count": null,
      "metadata": {
        "id": "4ShCbHh7fTtf"
      },
      "outputs": [],
      "source": [
        "print(my_add(1,1))\n",
        "print(my_add(b=12)) # if one argument is missing the default value is used\n",
        "print(my_add(5, b=10))"
      ]
    },
    {
      "cell_type": "markdown",
      "metadata": {
        "id": "eJ-3ybB-fTtf"
      },
      "source": [
        "### Map Reduce Filter"
      ]
    },
    {
      "cell_type": "code",
      "execution_count": null,
      "metadata": {
        "id": "at5HdB17fTtf"
      },
      "outputs": [],
      "source": [
        "# naive\n",
        "items = [1, 2, 3, 4, 5]\n",
        "squared = []\n",
        "for i in items:\n",
        "    squared.append(i**2)\n",
        "print(squared)"
      ]
    },
    {
      "cell_type": "code",
      "execution_count": null,
      "metadata": {
        "id": "FqYq6TO1fTtf"
      },
      "outputs": [],
      "source": [
        "# map-function - apply computation for every element\n",
        "# map(function_to_apply, list_of_inputs)\n",
        "items = [1, 2, 3, 4, 5]\n",
        "squared = list(map(lambda x: x**2, items))\n",
        "print(squared)"
      ]
    },
    {
      "cell_type": "code",
      "execution_count": null,
      "metadata": {
        "id": "j0ymmeqwfTtf"
      },
      "outputs": [],
      "source": [
        "# filter - creates a list of elements for which a function returns true\n",
        "# filter(function_to_apply, list_of_inputs)\n",
        "even_numbers = list(filter(lambda x: x % 2 == 0, squared))\n",
        "print(even_numbers)"
      ]
    },
    {
      "cell_type": "code",
      "execution_count": null,
      "metadata": {
        "id": "fKgnKkrYfTtf"
      },
      "outputs": [],
      "source": [
        "import functools as f\n",
        "#from functools import reduce\n",
        "\n",
        "# reduce - useful when performing some computation on a list and returning the result\n",
        "product = f.reduce((lambda x, y: x * y), [1, 2, 3, 4]) # reduce allows only 2 parameters\n",
        "\n",
        "print(product) # reduce saves intermediate result"
      ]
    },
    {
      "cell_type": "markdown",
      "metadata": {
        "id": "M5lx1WoofTtf"
      },
      "source": [
        "# NUMPY REFRESHER\n",
        "\n",
        "<img src=\"figures/numpy.jpg\" width=\"40%\">\n",
        "\n",
        "Fundamental for linear algebra calulations in Python:\n",
        "* N-dimensional arrays with fancy indexing\n",
        "* fast implementation, sophisticated libraries for linear algebra\n",
        "* tools for glueing C/C++ and Fortran\n",
        "* more: www.numpy.org"
      ]
    },
    {
      "cell_type": "code",
      "execution_count": null,
      "metadata": {
        "id": "M4xQJPITfTtf"
      },
      "outputs": [],
      "source": [
        "import numpy as np\n",
        "\n",
        "# Generating a random array\n",
        "R = 10*np.random.random((3, 3))-1\n",
        "\n",
        "#print some matrix stuff, you can play with tab completion to check for possible operations\n",
        "print(R)"
      ]
    },
    {
      "cell_type": "code",
      "execution_count": null,
      "metadata": {
        "id": "57WqIx3nfTtf"
      },
      "outputs": [],
      "source": [
        "# matrix\n",
        "B = np.array([[1.5,2,3], [4,5,6]])\n",
        "print(B)\n",
        "print(B.shape)"
      ]
    },
    {
      "cell_type": "code",
      "execution_count": null,
      "metadata": {
        "id": "4WKSARphfTtf"
      },
      "outputs": [],
      "source": [
        "# row vector\n",
        "b = np.array([2.5,1,3.1])\n",
        "print(b.T)"
      ]
    },
    {
      "cell_type": "code",
      "execution_count": null,
      "metadata": {
        "id": "-Qq0UkPSfTtf"
      },
      "outputs": [],
      "source": [
        "print(R.T) #transpose"
      ]
    },
    {
      "cell_type": "code",
      "execution_count": null,
      "metadata": {
        "id": "4qvwhJ_wfTtf"
      },
      "outputs": [],
      "source": [
        "# elementwise product\n",
        "print(2*B)"
      ]
    },
    {
      "cell_type": "code",
      "execution_count": null,
      "metadata": {
        "id": "qmz_uRilfTtf"
      },
      "outputs": [],
      "source": [
        "# matrix product\n",
        "B.T@np.array((2,1))"
      ]
    },
    {
      "cell_type": "code",
      "execution_count": null,
      "metadata": {
        "id": "LLA_JynZfTtf"
      },
      "outputs": [],
      "source": [
        "R"
      ]
    },
    {
      "cell_type": "code",
      "execution_count": null,
      "metadata": {
        "id": "hvlqpeHkfTtf"
      },
      "outputs": [],
      "source": [
        "print(R[0]) #row"
      ]
    },
    {
      "cell_type": "code",
      "execution_count": null,
      "metadata": {
        "id": "VoxzPXUvfTtf"
      },
      "outputs": [],
      "source": [
        "print(R[:,0]) #column"
      ]
    },
    {
      "cell_type": "code",
      "execution_count": null,
      "metadata": {
        "id": "futKHqhafTtg"
      },
      "outputs": [],
      "source": [
        "\n",
        "y = np.linspace(0, 10, 1000)\n",
        "print(y)"
      ]
    },
    {
      "cell_type": "code",
      "execution_count": null,
      "metadata": {
        "id": "cE_CWBmOfTtg"
      },
      "outputs": [],
      "source": [
        "R"
      ]
    },
    {
      "cell_type": "code",
      "execution_count": null,
      "metadata": {
        "id": "cn5IBTcqfTtg"
      },
      "outputs": [],
      "source": [
        "# indexing by an array of integers (fancy indexing)\n",
        "indices = np.array([1, 1, 0])\n",
        "print(indices)\n",
        "print(R[indices])"
      ]
    },
    {
      "cell_type": "markdown",
      "metadata": {
        "collapsed": true,
        "id": "CRTwaJV2fTtg"
      },
      "source": [
        "# SCIPY & MATPLOTLIB REFRESHER\n",
        "\n",
        "<img src=\"figures/scipy_logo.png\" width=\"30%\">\n",
        "\n",
        "Fundamental for scientific computing in Python:\n",
        "* ecosystem for computational math\n",
        "* integrates also tools for data analysis, plotting etc.\n",
        "* more: www.scipy.org"
      ]
    },
    {
      "cell_type": "code",
      "execution_count": null,
      "metadata": {
        "id": "MY1HrwL6fTtg"
      },
      "outputs": [],
      "source": [
        "# We show this for completeness since for some applications sparse matrices are useful\n",
        "import scipy as sp\n",
        "\n",
        "# Create a random array with a lot of zeros\n",
        "R = np.random.random((5, 10))\n",
        "print(R < 0.7)\n",
        "R[R<0.7] = 0\n",
        "print(R)"
      ]
    },
    {
      "cell_type": "code",
      "execution_count": null,
      "metadata": {
        "id": "FZC5T6K_fTtg"
      },
      "outputs": [],
      "source": [
        "# turn X into a csr (Compressed-Sparse-Row) matrix\n",
        "from scipy import sparse\n",
        "R_csr = sparse.csr_matrix(R)\n",
        "print(R_csr)"
      ]
    },
    {
      "cell_type": "code",
      "execution_count": null,
      "metadata": {
        "id": "mQg41_5efTtg"
      },
      "outputs": [],
      "source": [
        "R_csr.shape"
      ]
    },
    {
      "cell_type": "code",
      "execution_count": null,
      "metadata": {
        "id": "BbaKmtAgfTtg"
      },
      "outputs": [],
      "source": [
        "R_csr@np.ones(10)"
      ]
    },
    {
      "cell_type": "markdown",
      "metadata": {
        "id": "dSX4f_8qfTtg"
      },
      "source": [
        "# Plotting with Matplotlib"
      ]
    },
    {
      "cell_type": "code",
      "execution_count": null,
      "metadata": {
        "id": "qTtwVx-xfTtg"
      },
      "outputs": [],
      "source": [
        "# there are also handy magic commands which you see by the %\n",
        "# this one will set all plots to be produce inline = inside the notebook\n",
        "%matplotlib inline"
      ]
    },
    {
      "cell_type": "code",
      "execution_count": null,
      "metadata": {
        "id": "LuTx8wekfTtg"
      },
      "outputs": [],
      "source": [
        "# scipy also provides statistical distributions that are often needed:\n",
        "import matplotlib.pyplot as plt\n",
        "\n",
        "from scipy import stats\n",
        "cm = plt.cm.viridis # try: jet, inferno, virids\n"
      ]
    },
    {
      "cell_type": "code",
      "execution_count": null,
      "metadata": {
        "id": "GiZXaHI0fTtg"
      },
      "outputs": [],
      "source": [
        "x = np.linspace(0,10,150)\n",
        "plt.plot(x, x**2, c='white', label='x^2')\n",
        "plt.plot(x, x**3, linestyle='dotted', label='x^3')\n",
        "plt.legend()"
      ]
    },
    {
      "cell_type": "code",
      "execution_count": null,
      "metadata": {
        "id": "PV3uwSVcfTtg"
      },
      "outputs": [],
      "source": [
        "# contour plot\n",
        "x, y = np.mgrid[-1:1:.01, -1:1:.01]\n",
        "pos = np.dstack((x, y))\n",
        "rv = stats.multivariate_normal([0.5, -0.2], [[2.0, 0.3], [0.3, 0.5]])\n",
        "fig = plt.figure(figsize=(15,7))\n",
        "plt.contour(x, y, rv.pdf(pos), cmap=cm)"
      ]
    },
    {
      "cell_type": "code",
      "execution_count": null,
      "metadata": {
        "id": "61isAkqnfTtg"
      },
      "outputs": [],
      "source": [
        "# scatter-plot points\n",
        "plt.figure(figsize=(15,8))\n",
        "x = np.random.normal(size=500)\n",
        "y = np.random.normal(size=500)\n",
        "plt.scatter(x, y, cmap=cm)"
      ]
    },
    {
      "cell_type": "code",
      "execution_count": null,
      "metadata": {
        "id": "O9G3dTfPfTtg"
      },
      "outputs": [],
      "source": [
        "a = np.linspace(1,10,10)\n",
        "print(a.shape)\n",
        "print(a[:,np.newaxis].shape)\n",
        "print(a[:,np.newaxis])"
      ]
    },
    {
      "cell_type": "code",
      "execution_count": null,
      "metadata": {
        "id": "jo2pZhNzfTtg"
      },
      "outputs": [],
      "source": [
        "# showing images\n",
        "x = np.linspace(1, 12, 100)\n",
        "y = x[:, np.newaxis]\n",
        "#print(x.shape)\n",
        "#print(y.shape)\n",
        "#print((x+y).shape)\n",
        "im = y * np.sin(x) * np.cos(y)\n",
        "print(im.shape)"
      ]
    },
    {
      "cell_type": "code",
      "execution_count": null,
      "metadata": {
        "scrolled": true,
        "id": "f-Yk57UQfTtg"
      },
      "outputs": [],
      "source": [
        "# imshow - note that origin is at the top-left by default!\n",
        "plt.figure(figsize=(8,5))\n",
        "plt.imshow(np.zeros((100,100)),cmap=cm)"
      ]
    },
    {
      "cell_type": "code",
      "execution_count": null,
      "metadata": {
        "id": "bUytj4b1fTtg"
      },
      "outputs": [],
      "source": [
        "# Contour plot - note that origin here is at the bottom-left by default!\n",
        "plt.figure(figsize=(5,5))\n",
        "plt.contour(im, cmap=cm)"
      ]
    },
    {
      "cell_type": "code",
      "execution_count": null,
      "metadata": {
        "id": "D9Hy1kUpfTtg"
      },
      "outputs": [],
      "source": [
        "# 3D plotting\n",
        "#from mpl_toolkits.mplot3d import Axes3D\n",
        "fig = plt.figure(figsize=(10,7))\n",
        "#ax = fig.gca(projection='3d')\n",
        "ax = fig.add_subplot(projection='3d')\n",
        "cm = plt.cm.inferno # try: jet, inferno, virids\n",
        "xgrid, ygrid = np.meshgrid(x, y.ravel())\n",
        "ax.plot_surface(xgrid, ygrid, im, cmap=cm, cstride=2, rstride=2, linewidth=0)"
      ]
    },
    {
      "cell_type": "markdown",
      "metadata": {
        "id": "xuuhXIXKfTtg"
      },
      "source": [
        "## Linear Algebra"
      ]
    },
    {
      "cell_type": "code",
      "execution_count": null,
      "metadata": {
        "id": "c3UciRdofTtg"
      },
      "outputs": [],
      "source": [
        "n = 4\n",
        "A = np.ceil(200*np.random.rand(n,n))\n",
        "A = A + A.T # symmetrize\n",
        "b = np.ceil(np.ones((n,1)))\n",
        "print(A)\n",
        "print(b)"
      ]
    },
    {
      "cell_type": "code",
      "execution_count": null,
      "metadata": {
        "id": "UwqxVNGefTtg"
      },
      "outputs": [],
      "source": [
        "x = np.linalg.solve(A,b)\n",
        "print(x)\n",
        "np.allclose(np.dot(A, x), b)"
      ]
    },
    {
      "cell_type": "code",
      "execution_count": null,
      "metadata": {
        "id": "MX5k54K7fTtg"
      },
      "outputs": [],
      "source": [
        "?np.linalg.norm"
      ]
    },
    {
      "cell_type": "code",
      "execution_count": null,
      "metadata": {
        "id": "b287UvxyfTtg"
      },
      "outputs": [],
      "source": [
        "print(x.shape)\n",
        "# norms for vectors\n",
        "print(np.linalg.norm(x[:,0],0))\n",
        "print(np.linalg.norm(x,2))"
      ]
    },
    {
      "cell_type": "code",
      "execution_count": null,
      "metadata": {
        "id": "nDN5Zs98fTtg"
      },
      "outputs": [],
      "source": [
        "# norms for matrices\n",
        "print(np.linalg.norm(A,1)) # max col sum\n",
        "print(np.linalg.norm(A,np.inf)) # max row sum\n",
        "print(np.linalg.norm(A,'fro')) # frobenius"
      ]
    },
    {
      "cell_type": "code",
      "execution_count": null,
      "metadata": {
        "id": "SfP6jFgsfTtg"
      },
      "outputs": [],
      "source": [
        "# calculate the trace of a matrix, i.e. the sum of the diagonal elements\n",
        "np.trace(A)"
      ]
    },
    {
      "cell_type": "code",
      "execution_count": null,
      "metadata": {
        "id": "mTawmlZ0fTtg"
      },
      "outputs": [],
      "source": [
        "A"
      ]
    },
    {
      "cell_type": "code",
      "execution_count": null,
      "metadata": {
        "id": "AKXg4zMufTtg"
      },
      "outputs": [],
      "source": [
        "# calculate determinant of a matrix\n",
        "np.linalg.det(A)"
      ]
    },
    {
      "cell_type": "markdown",
      "metadata": {
        "id": "LsEV4mM1fTtg"
      },
      "source": [
        "### Eigenvalue decomposition\n",
        "Problem task: For a given matrix $A$ find an orthogonal matrix $U$ and a diagonal matrix $V$ with, such that:\n",
        "\n",
        "\n",
        "$\\hspace{6cm}\\large A=UVU^T$"
      ]
    },
    {
      "cell_type": "code",
      "execution_count": null,
      "metadata": {
        "id": "U4PldTQlfTtg"
      },
      "outputs": [],
      "source": [
        "d, U = np.linalg.eig(A)\n",
        "D = np.diag(d)"
      ]
    },
    {
      "cell_type": "code",
      "execution_count": null,
      "metadata": {
        "id": "qfx_oIGdfTtg"
      },
      "outputs": [],
      "source": [
        "# eigenvectors\n",
        "print(U)"
      ]
    },
    {
      "cell_type": "code",
      "execution_count": null,
      "metadata": {
        "id": "J7FhwozOfTtg"
      },
      "outputs": [],
      "source": [
        "# eigenvalues\n",
        "print(D)"
      ]
    },
    {
      "cell_type": "code",
      "execution_count": null,
      "metadata": {
        "id": "bFz0OeQ5fTth"
      },
      "outputs": [],
      "source": [
        "U@U.T"
      ]
    },
    {
      "cell_type": "code",
      "execution_count": null,
      "metadata": {
        "id": "APqbIfINfTth"
      },
      "outputs": [],
      "source": [
        "np.allclose(U@D@U.T,A)"
      ]
    },
    {
      "cell_type": "markdown",
      "metadata": {
        "id": "ySM_J9N-fTth"
      },
      "source": [
        "## Numerical Optimization"
      ]
    },
    {
      "cell_type": "markdown",
      "metadata": {
        "id": "VnDAZkfSfTth"
      },
      "source": [
        "Problem task:$ \\hspace{0.2cm} \\Large \\substack{\\min \\\\ x\\in\\mathbb{R}} \\  f(x)  \\hspace{0.2cm} $,$\\hspace{0.2cm}$ where $\\hspace{0.2cm} \\large f: \\mathbb{R}^n \\rightarrow\\mathbb{R}\\hspace{1cm}  $\n",
        "(Unconstrained nonlinear problem)\n",
        "\n",
        "Most machine learning algorithm are based on minimizing a costfunction. Numerical optimization is a very usefull tool to find a (local) minimum of a given function."
      ]
    },
    {
      "cell_type": "markdown",
      "metadata": {
        "id": "XF3bemOrfTth"
      },
      "source": [
        "### Scalar functions"
      ]
    },
    {
      "cell_type": "code",
      "execution_count": null,
      "metadata": {
        "id": "7bHemypdfTth"
      },
      "outputs": [],
      "source": [
        "def f(x):\n",
        "    return np.sin(x)\n",
        "plt.figure(figsize=(8,4))\n",
        "x_plot = np.linspace(-5,5,200)\n",
        "plt.plot(x_plot, f(x_plot), color=cm(1))"
      ]
    },
    {
      "cell_type": "code",
      "execution_count": null,
      "metadata": {
        "id": "vuX7JsATfTth"
      },
      "outputs": [],
      "source": [
        "sp.optimize.minimize_scalar(f, method='brent')['x']"
      ]
    },
    {
      "cell_type": "markdown",
      "metadata": {
        "id": "7OKnLiYxfTth"
      },
      "source": [
        "### Multidimensional functions\n",
        "\n",
        "Example:\n",
        "$$x \\in \\mathbb{R}^N,\\hspace{0.3cm}b \\in \\mathbb{R}^N,\\hspace{0.3cm} A \\in \\mathbb{R}^{NxN}$$  \n",
        "$$ f(x) = x^TAx+b^Tx \\hspace{2cm} \\nabla f(x) = Ax+b$$"
      ]
    },
    {
      "cell_type": "code",
      "execution_count": null,
      "metadata": {
        "id": "xfzI8kbgfTth"
      },
      "outputs": [],
      "source": [
        "def fun(x, A=np.diag([2,2]), b=np.array([0,0])):\n",
        "    return 0.5*np.dot(np.dot(x.T,A),x) + np.dot(b, x)\n",
        "\n",
        "def fun_der(x, A=np.diag([2,2]), b=np.array([0,0])):\n",
        "    return np.dot(A,x) + b.T\n",
        "\n",
        "fun(np.array([1,2]))"
      ]
    },
    {
      "cell_type": "code",
      "execution_count": null,
      "metadata": {
        "id": "4O8PjEF1fTth"
      },
      "outputs": [],
      "source": [
        "fig = plt.figure(figsize=(14,6))\n",
        "#ax = fig.gca(projection='3d')\n",
        "ax = fig.add_subplot(projection='3d')\n",
        "X = np.arange(-10, 10, 0.5)\n",
        "Y = np.arange(-10, 10, 0.5)\n",
        "X, Y = np.meshgrid(X, Y)\n",
        "Z = np.array([fun(np.array([x,y])) for x,y in zip(np.ravel(X), np.ravel(Y))])\n",
        "Z = Z.reshape(X.shape)\n",
        "surf = ax.plot_surface(X, Y, Z, cmap=cm,\n",
        "                       linewidth=0, antialiased=False)\n",
        "plt.show()"
      ]
    },
    {
      "cell_type": "code",
      "execution_count": null,
      "metadata": {
        "id": "y6yj1Q3ZfTth"
      },
      "outputs": [],
      "source": [
        "plt.figure(figsize=(8,5))\n",
        "plt.contour(X,Y,Z, 25, cmap=cm)\n",
        "plt.plot(0,0,marker='*', markersize=10, c=cm(1))"
      ]
    },
    {
      "cell_type": "code",
      "execution_count": null,
      "metadata": {
        "id": "_A71WD2xfTth"
      },
      "outputs": [],
      "source": [
        "# quadratic form\n",
        "# direct method (no gradient information)\n",
        "sp.optimize.minimize(fun, x0=[100,100], method='Nelder-Mead')"
      ]
    },
    {
      "cell_type": "code",
      "execution_count": null,
      "metadata": {
        "id": "5AbCY24RfTth"
      },
      "outputs": [],
      "source": [
        "# quasi newton method (gradient provided)\n",
        "sp.optimize.minimize(fun, method='BFGS', jac=fun_der ,x0=[100,100])"
      ]
    },
    {
      "cell_type": "code",
      "execution_count": null,
      "metadata": {
        "id": "BgsImNNSfTth"
      },
      "outputs": [],
      "source": [
        "# rosenbrock function\n",
        "fig = plt.figure(figsize=(8,5))\n",
        "X = np.arange(-0.5, 1.5, 0.05)\n",
        "Y = np.arange(-0.5, 1.5, 0.05)\n",
        "X, Y = np.meshgrid(X, Y)\n",
        "Z = np.array([sp.optimize.rosen(np.array([x,y])) for x,y in zip(np.ravel(X), np.ravel(Y))])\n",
        "Z = Z.reshape(X.shape)\n",
        "plt.contour(X,Y,Z, 75, cmap=cm)\n",
        "plt.plot(1,1,marker='*', markersize=10, c=cm(1))\n",
        "plt.title('Rosenbrock function')"
      ]
    },
    {
      "cell_type": "code",
      "execution_count": null,
      "metadata": {
        "id": "ORHr3GK_fTth"
      },
      "outputs": [],
      "source": [
        "# direct method\n",
        "sp.optimize.minimize(sp.optimize.rosen ,method='Nelder-Mead',x0=np.repeat(100,7))"
      ]
    },
    {
      "cell_type": "code",
      "execution_count": null,
      "metadata": {
        "id": "f8-ERvyMfTth"
      },
      "outputs": [],
      "source": [
        "# quasi newton method\n",
        "sp.optimize.minimize(sp.optimize.rosen ,method='BFGS', jac=sp.optimize.rosen_der ,x0=np.repeat(100,8))"
      ]
    },
    {
      "cell_type": "markdown",
      "metadata": {
        "id": "JVCW-woMfTth"
      },
      "source": [
        "## Numerical integration\n",
        "- allows us to calculate the value of a definite integral\n",
        "- even for integrals that cannot be solved analytically\n",
        "- only requires function evaluations"
      ]
    },
    {
      "cell_type": "code",
      "execution_count": null,
      "metadata": {
        "id": "iiSC9ld5fTth"
      },
      "outputs": [],
      "source": [
        "def f(x):\n",
        "    if x>1.5:\n",
        "        return 1000000000\n",
        "    else:\n",
        "        return 1\n",
        "sp.integrate.quad(f, a=1, b=2)"
      ]
    },
    {
      "cell_type": "code",
      "execution_count": null,
      "metadata": {
        "id": "Pqg8nfb9fTth"
      },
      "outputs": [],
      "source": [
        "sp.integrate.dblquad(lambda x,y: fun(np.array([x,y])), a=0, b=2, gfun=lambda x: 0, hfun=lambda x: 2)"
      ]
    },
    {
      "cell_type": "code",
      "execution_count": null,
      "metadata": {
        "id": "YuiQGEQufTth"
      },
      "outputs": [],
      "source": [
        "# check result with monte carlo integration\n",
        "x = np.random.rand(10000)*2\n",
        "y = np.random.rand(10000)*2\n",
        "s = 0\n",
        "for k in zip(x,y):\n",
        "    s += fun(np.array(k))\n",
        "print(4*s/10000)"
      ]
    },
    {
      "cell_type": "markdown",
      "metadata": {
        "id": "0guG5wabfTth"
      },
      "source": [
        "## Statistics"
      ]
    },
    {
      "cell_type": "code",
      "execution_count": null,
      "metadata": {
        "id": "cowsiXxyfTth"
      },
      "outputs": [],
      "source": [
        "# draw 10000 samples from a beta(9,3) distribution\n",
        "r = sp.stats.beta.rvs(9, 3, size=10000)"
      ]
    },
    {
      "cell_type": "code",
      "execution_count": null,
      "metadata": {
        "id": "J_Cf0jyQfTth"
      },
      "outputs": [],
      "source": [
        "# draw histogram and theoretical density\n",
        "plt.figure(figsize=(10,5))\n",
        "#H1 = plt.hist(r,100, normed=True, color=cm(200))\n",
        "H1 = plt.hist(r,100, density=True, stacked=True, color=cm(200))\n",
        "x_plot = np.linspace(0,1)\n",
        "plt.plot(x_plot, sp.stats.beta.pdf(x_plot,9,3), color=cm(100))"
      ]
    },
    {
      "cell_type": "code",
      "execution_count": null,
      "metadata": {
        "id": "IaUvv83KfTth"
      },
      "outputs": [],
      "source": [
        "plt.figure(figsize=(8,4))\n",
        "plt.plot(x_plot, sp.stats.beta.cdf(x_plot,9,3), color=cm(100))"
      ]
    },
    {
      "cell_type": "code",
      "execution_count": null,
      "metadata": {
        "id": "T2TwunesfTth"
      },
      "outputs": [],
      "source": [
        "# throw two dices 10000 and count the eyes\n",
        "a = np.random.randint(1,7, size=10000)\n",
        "b = np.random.randint(1,7, size=10000)\n",
        "dice = a+b"
      ]
    },
    {
      "cell_type": "code",
      "execution_count": null,
      "metadata": {
        "id": "Gr6s7ZwCfTth"
      },
      "outputs": [],
      "source": [
        "H2 = plt.hist(dice,bins=np.arange(dice.min(),dice.max()+2,1)-.5, color=cm(100))"
      ]
    },
    {
      "cell_type": "code",
      "execution_count": null,
      "metadata": {
        "id": "tgqdlcFPfTth"
      },
      "outputs": [],
      "source": [
        "# calculate mean\n",
        "print(np.mean(r))"
      ]
    },
    {
      "cell_type": "code",
      "execution_count": null,
      "metadata": {
        "id": "F0wn5ISefTth"
      },
      "outputs": [],
      "source": [
        "# calculate median\n",
        "print(np.median(r))"
      ]
    },
    {
      "cell_type": "code",
      "execution_count": null,
      "metadata": {
        "id": "pjF8u4M_fTth"
      },
      "outputs": [],
      "source": [
        "# calculate variance\n",
        "print(np.var(r))"
      ]
    },
    {
      "cell_type": "code",
      "execution_count": null,
      "metadata": {
        "id": "7IEeyiMWfTth"
      },
      "outputs": [],
      "source": [
        "A = np.array([[1,2,1,5],[3,2,1,5]])\n",
        "# correlation matrix\n",
        "print(np.corrcoef(A))"
      ]
    },
    {
      "cell_type": "code",
      "execution_count": null,
      "metadata": {
        "id": "wLZI2o2xfTth"
      },
      "outputs": [],
      "source": [
        "# covariance matrix\n",
        "print(np.cov(A))"
      ]
    },
    {
      "cell_type": "markdown",
      "metadata": {
        "id": "wmjHzwdJfTth"
      },
      "source": [
        "### Some more distributions\n",
        "\n",
        "Discrete distributions (selection)\n",
        "   - bernoulli         -- Bernoulli\n",
        "   - binom             -- Binomial\n",
        "   - dlaplace          -- Discrete Laplacian\n",
        "   - geom              -- Geometric\n",
        "   - hypergeom         -- Hypergeometric\n",
        "   - nbinom            -- Negative Binomial\n",
        "   - poisson           -- Poisson\n",
        "   - randint           -- Discrete Uniform\n",
        "   \n",
        "Continuous distributions (selection)\n",
        "\n",
        "   - alpha             -- Alpha\n",
        "   - arcsine           -- Arcsine\n",
        "   - beta              -- Beta\n",
        "   - cauchy            -- Cauchy\n",
        "   - chi               -- Chi\n",
        "   - chi2              -- Chi-squared\n",
        "   - cosine            -- Cosine\n",
        "   - expon             -- Exponential\n",
        "   - exponnorm         -- Exponentially Modified Normal\n",
        "   - exponweib         -- Exponentiated Weibull\n",
        "   - gamma             -- Gamma\n",
        "   - halfcauchy        -- Half Cauchy\n",
        "   - halflogistic      -- Half Logistic\n",
        "   - halfnorm          -- Half Normal\n",
        "   - halfgennorm       -- Generalized Half Normal\n",
        "   - invgamma          -- Inverse Gamma\n",
        "   - invgauss          -- Inverse Gaussian\n",
        "   - invweibull        -- Inverse Weibull\n",
        "   - logistic          -- Logistic\n",
        "   - norm              -- Normal (Gaussian)\n",
        "   - skewnorm          -- Skew normal\n",
        "   - t                 -- Student's T\n",
        "   - truncexpon        -- Truncated Exponential\n",
        "   - truncnorm         -- Truncated Normal\n",
        "   - tukeylambda       -- Tukey-Lambda\n",
        "   - uniform           -- Uniform\n",
        "\n",
        "Multivariate distributions (selection)\n",
        "\n",
        "   - multivariate_normal   -- Multivariate normal distribution\n",
        "   - matrix_normal         -- Matrix normal distribution\n",
        "   - dirichlet             -- Dirichlet\n",
        "   - wishart               -- Wishart\n",
        "   - invwishart            -- Inverse Wishart\n",
        "   - multinomial           -- Multinomial distribution\n",
        "   - random_correlation    -- random correlation matrices\n"
      ]
    },
    {
      "cell_type": "markdown",
      "metadata": {
        "id": "GbJC03WVfTth"
      },
      "source": [
        "### Kernel density estimation\n",
        "- can be used to estimate the density of given data if the underlying distribution is unknown\n",
        "- non-parametric"
      ]
    },
    {
      "cell_type": "code",
      "execution_count": null,
      "metadata": {
        "id": "9CVeCmdxfTth"
      },
      "outputs": [],
      "source": [
        "plt.figure(figsize=(10,7))\n",
        "# draw 50 samples\n",
        "rk = sp.stats.beta.rvs(9, 3, size=50)\n",
        "kde = stats.gaussian_kde(rk, bw_method='silverman')\n",
        "plt.plot(x_plot,kde.evaluate(x_plot), color=cm(200), label='empirical density')\n",
        "plt.plot(x_plot, sp.stats.beta.pdf(x_plot,9,3), color=cm(100), label='theoretical density')\n",
        "plt.legend()"
      ]
    },
    {
      "cell_type": "markdown",
      "metadata": {
        "collapsed": true,
        "id": "T1tnEqd3fTth"
      },
      "source": [
        "# PANDAS - python data analysis library\n",
        "\n",
        "- very easy to use\n",
        "- tons of functionality\n",
        "- DataFrames as the underying data structure, very common in statistical computations\n",
        "- scales perfectly up to hundred millions of rows\n",
        "- integrates smoothly into Apache stack (especially Hadoop & Spark)"
      ]
    },
    {
      "cell_type": "code",
      "execution_count": null,
      "metadata": {
        "id": "82ACumAEfTti"
      },
      "outputs": [],
      "source": [
        "# import library\n",
        "import pandas as pd"
      ]
    },
    {
      "cell_type": "code",
      "execution_count": null,
      "metadata": {
        "id": "TIuaGfa_fTti"
      },
      "outputs": [],
      "source": [
        "data = pd.read_csv('data/iris.data', names = ['sl','sw','pl','pw','iris_type'])"
      ]
    },
    {
      "cell_type": "code",
      "execution_count": null,
      "metadata": {
        "id": "KP8B4ai9fTti"
      },
      "outputs": [],
      "source": [
        "# fast and scalable data read\n",
        "%timeit data = pd.read_csv('data/iris.data', names = ['sl','sw','pl','pw','iris_type'])"
      ]
    },
    {
      "cell_type": "code",
      "execution_count": null,
      "metadata": {
        "id": "E0CHiWR5fTti"
      },
      "outputs": [],
      "source": [
        "# extremely good for exploring data!\n",
        "data.head()"
      ]
    },
    {
      "cell_type": "code",
      "execution_count": null,
      "metadata": {
        "id": "4Gg4DDFkfTti"
      },
      "outputs": [],
      "source": [
        "# extremely good for exploring data!\n",
        "# fancy indexing on DataFrames\n",
        "data[-10:]"
      ]
    },
    {
      "cell_type": "code",
      "execution_count": null,
      "metadata": {
        "id": "zF2_ocEZfTti"
      },
      "outputs": [],
      "source": [
        "# easy access to columns, which are fast numpy arrays\n",
        "data.sl[:10]"
      ]
    },
    {
      "cell_type": "code",
      "execution_count": null,
      "metadata": {
        "id": "8cJZJzgpfTti"
      },
      "outputs": [],
      "source": [
        "# access single element, now ready for manipulation\n",
        "data.pw[2]"
      ]
    },
    {
      "cell_type": "code",
      "execution_count": null,
      "metadata": {
        "id": "XkKUiLQtfTti"
      },
      "outputs": [],
      "source": [
        "# store to csv\n",
        "data.to_csv('data/output_iris.csv',sep='\\t')\n",
        "\n",
        "# you can also work with sql on DataFrames\n",
        "# data.to_sql etc.\n",
        "\n",
        "# also basic data structure in R\n",
        "# even more functionality"
      ]
    },
    {
      "cell_type": "code",
      "execution_count": null,
      "metadata": {
        "id": "OnMfgWWdfTti"
      },
      "outputs": [],
      "source": [
        "# Query your DataFrame SQL like!\n",
        "data[(data.sl > 5) & (data.iris_type == 'Iris-setosa')]"
      ]
    },
    {
      "cell_type": "code",
      "execution_count": null,
      "metadata": {
        "id": "SzzmNspkfTti"
      },
      "outputs": [],
      "source": [
        "# how many ?\n",
        "len(data[(data.sl > 5.1)])"
      ]
    },
    {
      "cell_type": "code",
      "execution_count": null,
      "metadata": {
        "id": "zR2a5fkVfTti"
      },
      "outputs": [],
      "source": [
        "# how many setosas ?\n",
        "len(data[data.iris_type == 'Iris-setosa'])"
      ]
    },
    {
      "cell_type": "code",
      "execution_count": null,
      "metadata": {
        "id": "T1YNk841fTti"
      },
      "outputs": [],
      "source": [
        "H = pd.plotting.scatter_matrix(data, figsize=(10,10))"
      ]
    },
    {
      "cell_type": "markdown",
      "metadata": {
        "id": "1B-89CkdfTti"
      },
      "source": [
        "# SKLEARN\n",
        "\n",
        "Data in scikit-learn, with very few exceptions, is assumed to be stored as a\n",
        "**two-dimensional array**, of size `[n_samples, n_features]`. Many algorithms also accept ``scipy.sparse`` matrices of the same shape.\n",
        "\n",
        "- **n_samples:**   The number of samples: each sample is an item to process (e.g. classify).\n",
        "  A sample can be a document, a picture, a sound, a video, an astronomical object,\n",
        "  a row in database or CSV file,\n",
        "  or whatever you can describe with a fixed set of quantitative traits.\n",
        "- **n_features:**  The number of features or distinct traits that can be used to describe each\n",
        "  item in a quantitative manner.  Features are generally real-valued, but may be boolean or\n",
        "  discrete-valued in some cases.\n",
        "\n",
        "The number of features must be fixed in advance. However it can be very high dimensional\n",
        "(e.g. millions of features) with most of them being zeros for a given sample. This is a case\n",
        "where `scipy.sparse` matrices can be useful, in that they are\n",
        "much more memory-efficient than numpy arrays.\n",
        "\n",
        "Each sample (data point) is a row in the data array, and each feature is a column.\n",
        "\n",
        "* standard library for ML in Python\n",
        "* rich library and fairly easy to use\n",
        "* largely implemented in Cython or on native C code, so fairly fast\n",
        "* use the following cheat sheet\n",
        "\n",
        "<img src=\"figures/sklearn.png\" width=\"100%\">\n",
        "Source: http://scikit-learn.org/"
      ]
    },
    {
      "cell_type": "code",
      "execution_count": null,
      "metadata": {
        "id": "3MgAZGI0fTti"
      },
      "outputs": [],
      "source": [
        "# !pip3 install scikit-learn\n",
        "from sklearn import svm\n",
        "from sklearn.inspection import DecisionBoundaryDisplay\n",
        "from matplotlib.colors import ListedColormap"
      ]
    },
    {
      "cell_type": "code",
      "execution_count": null,
      "metadata": {
        "id": "pn5zdJhPfTti"
      },
      "outputs": [],
      "source": [
        "# split data into training and test set\n",
        "iris_data = np.array(data)[:,[0,1,4]]\n",
        "\n",
        "# shuffle rows for training test split since the data is sorted\n",
        "np.random.shuffle(iris_data)\n",
        "\n",
        "# split data between input (dim 0-3) and label (dim 4)\n",
        "x, y = np.split(iris_data, [2], axis=1)\n",
        "\n",
        "# split data in training and test data\n",
        "num_datapoints = x.shape[0]\n",
        "train_x, test_x = np.split(x,[100], axis=0)\n",
        "train_y, test_y = np.split(y,[100], axis=0)\n",
        "train_y, test_y = train_y.ravel(), test_y.ravel()\n",
        "\n",
        "# 100 training points and 50 test points\n",
        "print(\"train_x:\", train_x.shape, \"test_x:\", test_x.shape,\n",
        "      \"train_y:\", train_y.shape, \"test_y:\", test_y.shape)"
      ]
    },
    {
      "cell_type": "code",
      "execution_count": null,
      "metadata": {
        "id": "NRzDRlqTfTti"
      },
      "outputs": [],
      "source": [
        "# evaluate a classifier on data\n",
        "def evaluate_classifier(classifier, x, y, plot=True):\n",
        "\n",
        "    num_datapoints = x.shape[0]\n",
        "    predictions = classifier.predict(x)\n",
        "    labels = ['incorrect', 'correct']\n",
        "    colors = ListedColormap(['r','g'])\n",
        "\n",
        "    c_values = [predictions == y]\n",
        "    correct = np.sum(c_values)\n",
        "\n",
        "    print(f\"Correct: {correct}/{num_datapoints} ({correct/num_datapoints*100}%) \", )\n",
        "\n",
        "    if plot:\n",
        "        fig, ax1 = plt.subplots(1, 1)\n",
        "        scatter1 = ax1.scatter(x[:,0], x[:,1], c=c_values, label=c_values, cmap=colors)\n",
        "        ax1.legend(handles=scatter1.legend_elements()[0], labels=labels)\n",
        "        plt.show()"
      ]
    },
    {
      "cell_type": "code",
      "execution_count": null,
      "metadata": {
        "id": "MecZf9WrfTti"
      },
      "outputs": [],
      "source": [
        "# use Linear Support Vector Classification (SVMs)\n",
        "classifier = svm.LinearSVC(max_iter=10000)\n",
        "classifier.fit(train_x, train_y)\n",
        "evaluate_classifier(classifier, test_x, test_y)"
      ]
    },
    {
      "cell_type": "code",
      "execution_count": null,
      "metadata": {
        "id": "84ItHKeyfTti"
      },
      "outputs": [],
      "source": [
        "# use Support Vector Classification (SVMs)\n",
        "classifier = svm.SVC()\n",
        "classifier.fit(train_x, train_y)\n",
        "evaluate_classifier(classifier, test_x, test_y)"
      ]
    },
    {
      "cell_type": "code",
      "execution_count": null,
      "metadata": {
        "id": "VNvGlefifTti"
      },
      "outputs": [],
      "source": [
        "from sklearn.tree import DecisionTreeClassifier\n",
        "# use Decision Tree\n",
        "classifier = DecisionTreeClassifier()\n",
        "classifier.fit(train_x, train_y)\n",
        "evaluate_classifier(classifier, test_x, test_y)"
      ]
    },
    {
      "cell_type": "code",
      "execution_count": null,
      "metadata": {
        "id": "lhhhqmC-fTti"
      },
      "outputs": [],
      "source": [
        "from sklearn.neural_network import MLPClassifier\n",
        "# use Neural Network\n",
        "classifier = MLPClassifier(alpha=1, max_iter=1000)\n",
        "classifier.fit(train_x, train_y)\n",
        "evaluate_classifier(classifier, test_x, test_y)"
      ]
    },
    {
      "cell_type": "code",
      "execution_count": null,
      "metadata": {
        "id": "cdKszjOhfTti"
      },
      "outputs": [],
      "source": [
        "# show the decision boundaries of a classifier. data has to be 2-dim (so we have to reduce iris data to 2 dimensions)\n",
        "def eval_classifier_boundaries(classifier, x, y, dims=[0,1], cmap=plt.cm.RdBu):\n",
        "    x = x[:,dims]\n",
        "    evaluate_classifier(classifier, x, y, plot=False)\n",
        "    ax = plt.gca()\n",
        "\n",
        "    labels = ['Iris-versicolor', 'Iris-setosa', 'Iris-virginica']\n",
        "    colors = ListedColormap(['g', 'r', 'b'])\n",
        "\n",
        "    c_values = np.zeros_like(y)\n",
        "    c_values[y== 'Iris-versicolor'] = 1\n",
        "    c_values[y== 'Iris-virginica'] = 2\n",
        "\n",
        "    DecisionBoundaryDisplay.from_estimator(classifier, x, cmap=colors, alpha=0.3, ax=ax, eps=0.5)\n",
        "    scatter = ax.scatter(x[:,0], x[:,1], c=c_values, cmap=colors)\n",
        "    plt.legend(handles=scatter.legend_elements()[0], labels=labels)\n",
        "    plt.show()"
      ]
    },
    {
      "cell_type": "code",
      "execution_count": null,
      "metadata": {
        "id": "it3llCeMfTti"
      },
      "outputs": [],
      "source": [
        "classifier = MLPClassifier(alpha=1, max_iter=1000)\n",
        "classifier.fit(train_x, train_y)\n",
        "eval_classifier_boundaries(classifier, test_x, test_y)"
      ]
    },
    {
      "cell_type": "code",
      "execution_count": null,
      "metadata": {
        "id": "yVacPyzbfTti"
      },
      "outputs": [],
      "source": [
        "classifier = DecisionTreeClassifier()\n",
        "classifier.fit(train_x, train_y)\n",
        "eval_classifier_boundaries(classifier, test_x, test_y)"
      ]
    },
    {
      "cell_type": "code",
      "execution_count": null,
      "metadata": {
        "id": "DcWdVTVofTti"
      },
      "outputs": [],
      "source": [
        "classifier = svm.SVC()\n",
        "classifier.fit(train_x, train_y)\n",
        "eval_classifier_boundaries(classifier, test_x, test_y)"
      ]
    },
    {
      "cell_type": "code",
      "execution_count": null,
      "metadata": {
        "id": "DOhFiOR0fTti"
      },
      "outputs": [],
      "source": []
    }
  ],
  "metadata": {
    "kernelspec": {
      "display_name": "Python 3",
      "language": "python",
      "name": "python3"
    },
    "language_info": {
      "codemirror_mode": {
        "name": "ipython",
        "version": 3
      },
      "file_extension": ".py",
      "mimetype": "text/x-python",
      "name": "python",
      "nbconvert_exporter": "python",
      "pygments_lexer": "ipython3",
      "version": "3.12.4"
    },
    "colab": {
      "provenance": [],
      "include_colab_link": true
    }
  },
  "nbformat": 4,
  "nbformat_minor": 0
}