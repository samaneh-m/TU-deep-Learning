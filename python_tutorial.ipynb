{
  "cells": [
    {
      "cell_type": "markdown",
      "metadata": {
        "id": "view-in-github",
        "colab_type": "text"
      },
      "source": [
        "<a href=\"https://colab.research.google.com/github/samaneh-m/TU-deep-Learning/blob/main/python_tutorial.ipynb\" target=\"_parent\"><img src=\"https://colab.research.google.com/assets/colab-badge.svg\" alt=\"Open In Colab\"/></a>"
      ]
    },
    {
      "cell_type": "markdown",
      "metadata": {
        "id": "nJsWqutpYwDk"
      },
      "source": [
        "# Deep Learning, Python Tutorial\n",
        "\n",
        "This is an introductory practice sheet designed to help you get familiar with basic Python programming concepts. Please note the following points:\n",
        "\n",
        "\n",
        "- This sheet is **not mandatory** and will not be handed in or scored. It is solely intended for your personal learning and practice.\n",
        "- An example solution will be released one week after the release date of this sheet.\n",
        "\n"
      ]
    },
    {
      "cell_type": "markdown",
      "metadata": {
        "id": "MHvZRW2PYwDm"
      },
      "source": [
        "# Task 1: Basics\n",
        "\n",
        "## Part 1: Function Definitions and Loops\n",
        "\n",
        "### 1.1 Multiplication Table Function\n",
        "Write a function `multiplication_table(n)` that:\n",
        "- Takes a single integer `n` as an argument.\n",
        "- Uses a `for` loop to print the multiplication table for `n` (from `n x 1` up to `n x 10`).\n",
        "\n",
        "**Example:**\n",
        "```python\n",
        "multiplication_table(5)\n",
        "```\n",
        "\n",
        "**Expected Output:**\n",
        "```\n",
        "5 x 1 = 5\n",
        "5 x 2 = 10\n",
        "...\n",
        "5 x 10 = 50\n",
        "```\n"
      ]
    },
    {
      "cell_type": "code",
      "execution_count": 2,
      "metadata": {
        "id": "-qVFkufAYwDn",
        "colab": {
          "base_uri": "https://localhost:8080/"
        },
        "outputId": "a944994d-bd3b-4193-b3a4-d66d4cef43b4"
      },
      "outputs": [
        {
          "output_type": "stream",
          "name": "stdout",
          "text": [
            "5 x 1 = 5\n",
            "5 x 2 = 10\n",
            "5 x 3 = 15\n",
            "5 x 4 = 20\n",
            "5 x 5 = 25\n",
            "5 x 6 = 30\n",
            "5 x 7 = 35\n",
            "5 x 8 = 40\n",
            "5 x 9 = 45\n",
            "5 x 10 = 50\n"
          ]
        }
      ],
      "source": [
        "def multiplication_table(n):\n",
        "  for i in range(1, 11):\n",
        "    product = n * i\n",
        "    print(f\"{n} x {i} = {product}\")\n",
        "\n",
        "\n",
        "# Example output for multiplication_table(5)\n",
        "multiplication_table(5)\n"
      ]
    },
    {
      "cell_type": "markdown",
      "metadata": {
        "id": "MpQYodZbYwDn"
      },
      "source": [
        "### 1.2 Sum of Odd Numbers with a While Loop\n",
        "Write a function `sum_of_odds(limit)` that:\n",
        "- Takes an integer `limit` as an argument.\n",
        "- Uses a `while` loop to calculate the sum of all odd numbers from `1` up to `limit` (inclusive).\n",
        "- Returns the sum.\n",
        "\n",
        "**Example:**\n",
        "```python\n",
        "sum_of_odds(10)\n",
        "```\n",
        "\n",
        "**Expected Output:** `25` (1 + 3 + 5 + 7 + 9)"
      ]
    },
    {
      "cell_type": "code",
      "execution_count": 7,
      "metadata": {
        "id": "xLI3crnUYwDn",
        "colab": {
          "base_uri": "https://localhost:8080/"
        },
        "outputId": "60e167d4-e554-4620-e4c5-27ae1aff2411"
      },
      "outputs": [
        {
          "output_type": "stream",
          "name": "stdout",
          "text": [
            "25\n"
          ]
        }
      ],
      "source": [
        "def sum_of_odds(limit):\n",
        "    current_number = 1\n",
        "    total_sum = 0\n",
        "    while current_number <= limit:\n",
        "        if current_number % 2 != 0:\n",
        "            total_sum += current_number\n",
        "        current_number += 1\n",
        "    return total_sum\n",
        "\n",
        "\n",
        "print(sum_of_odds(10))\n"
      ]
    },
    {
      "cell_type": "markdown",
      "metadata": {
        "id": "Dx8bZMVSYwDo"
      },
      "source": [
        "## Part 2: Working with Lists\n",
        "\n",
        "### 1.3 Sorting and Filtering a List of Numbers\n",
        "Write a function `process_numbers(numbers)` that:\n",
        "- Takes a list of integers `numbers` as an argument.\n",
        "- Sorts the list in ascending order.\n",
        "- Filters out any even numbers and returns a new list with only the odd numbers.\n",
        "\n",
        "**Example:**\n",
        "```python\n",
        "process_numbers([5, 2, 8, 3, 1, 4])\n",
        "```\n",
        "\n",
        "**Expected Output:** `[1, 3, 5]`"
      ]
    },
    {
      "cell_type": "code",
      "source": [
        "def process_numbers(number):\n",
        "  number.sort()\n",
        "  odd_number = []\n",
        "  for num in number:\n",
        "    if num %2 !=0:\n",
        "      odd_number.append(num)\n",
        "  return odd_number\n",
        "\n",
        "\n",
        "process_numbers([8, 9, 2, 3, 5, 5])"
      ],
      "metadata": {
        "colab": {
          "base_uri": "https://localhost:8080/"
        },
        "id": "Pbb30z4ndikE",
        "outputId": "f0afc38f-a3c2-415c-c918-02e94f929ef8"
      },
      "execution_count": 14,
      "outputs": [
        {
          "output_type": "execute_result",
          "data": {
            "text/plain": [
              "[3, 5, 5, 9]"
            ]
          },
          "metadata": {},
          "execution_count": 14
        }
      ]
    },
    {
      "cell_type": "code",
      "execution_count": 11,
      "metadata": {
        "id": "us2_HcGxYwDo",
        "colab": {
          "base_uri": "https://localhost:8080/"
        },
        "outputId": "92467dff-81ed-4f4f-eab6-728acec7100f"
      },
      "outputs": [
        {
          "output_type": "execute_result",
          "data": {
            "text/plain": [
              "[1, 3, 5]"
            ]
          },
          "metadata": {},
          "execution_count": 11
        }
      ],
      "source": [
        "def process_numbers(numbers):\n",
        "  numbers.sort()\n",
        "  odd_numbers = []\n",
        "  for num in numbers:\n",
        "    if num %2 !=0:\n",
        "      odd_numbers.append(num)\n",
        "  return odd_numbers\n",
        "\n",
        "\n",
        "\n",
        "process_numbers([5, 2, 8, 3, 1, 4])"
      ]
    },
    {
      "cell_type": "markdown",
      "metadata": {
        "id": "VIv7E-YIYwDo"
      },
      "source": [
        "### 1.4 Counting Occurrences in a List\n",
        "Write a function `count_occurrences(elements)` that:\n",
        "- Takes a list `elements` as an argument.\n",
        "- Uses a dictionary to count the occurrences of each unique element in the list.\n",
        "- Returns the dictionary of counts.\n",
        "\n",
        "**Example:**\n",
        "```python\n",
        "count_occurrences(['apple', 'banana', 'apple', 'orange', 'banana', 'apple'])\n",
        "```\n",
        "\n",
        "**Expected Output:**\n",
        "```python\n",
        "{'apple': 3, 'banana': 2, 'orange': 1}\n",
        "```"
      ]
    },
    {
      "cell_type": "code",
      "source": [
        "def count_occurances(elements):\n",
        "  count = {}\n",
        "  for item in elements:\n",
        "    if item in count:\n",
        "      count [item] +=1\n",
        "    else:\n",
        "      count [item] = 1\n",
        "  return count\n",
        "\n",
        "count_occurances(['apple', 'banana', 'apple', 'orange', 'orange', 'banana', 'apple'])"
      ],
      "metadata": {
        "colab": {
          "base_uri": "https://localhost:8080/"
        },
        "id": "OrIXz4C6ehZ_",
        "outputId": "21c305b5-6aa3-4dcb-b7de-e48bd913bb62"
      },
      "execution_count": 18,
      "outputs": [
        {
          "output_type": "execute_result",
          "data": {
            "text/plain": [
              "{'apple': 3, 'banana': 2, 'orange': 2}"
            ]
          },
          "metadata": {},
          "execution_count": 18
        }
      ]
    },
    {
      "cell_type": "code",
      "execution_count": null,
      "metadata": {
        "id": "uLXXUrpwYwDo"
      },
      "outputs": [],
      "source": [
        "def count_occurrences(elements):\n",
        "    '''your code'''\n",
        "\n",
        "\n",
        "\n",
        "count_occurrences(['apple', 'banana', 'apple', 'orange', 'banana', 'apple'])\n"
      ]
    },
    {
      "cell_type": "markdown",
      "metadata": {
        "id": "RW5cIXaIYwDo"
      },
      "source": [
        "\n",
        "## Part 3: List Comprehension, Map, and Filter\n",
        "\n",
        "### Task 1.5: List Comprehension - Squares of Odd Numbers\n",
        "Write a function `squares_of_odds(limit)` that:\n",
        "- Takes an integer `limit` as an argument.\n",
        "- Uses list comprehension to create a list of squares of all odd numbers from `0` up to (but not including) `limit`.\n",
        "- Returns the list of squares.\n",
        "\n",
        "**Example:**\n",
        "```python\n",
        "squares_of_odds(10)\n",
        "```\n",
        "**Expected Output:** `[1, 9, 25, 49, 81]`\n"
      ]
    },
    {
      "cell_type": "code",
      "source": [
        "def squares_of_odds(limit):\n",
        "  squares_of_odds = []\n",
        "  for num in range (limit):\n",
        "    if num %2 !=0:\n",
        "      odd_number = num **2\n",
        "      squares_of_odds.append(odd_number)\n",
        "\n",
        "\n",
        "  return squares_of_odds\n",
        "\n",
        "\n",
        "\n",
        "\n",
        "squares_of_odds(10)\n"
      ],
      "metadata": {
        "colab": {
          "base_uri": "https://localhost:8080/"
        },
        "id": "yE1E_KeziQ_8",
        "outputId": "ca17c86c-0c74-4d17-d613-e2362ac0124c"
      },
      "execution_count": 21,
      "outputs": [
        {
          "output_type": "execute_result",
          "data": {
            "text/plain": [
              "[1, 9, 25, 49, 81]"
            ]
          },
          "metadata": {},
          "execution_count": 21
        }
      ]
    },
    {
      "cell_type": "code",
      "execution_count": null,
      "metadata": {
        "id": "vwgS6oZQYwDp"
      },
      "outputs": [],
      "source": [
        "def squares_of_odds(limit):\n",
        "    '''your code'''\n",
        "\n",
        "\n",
        "\n",
        "print(squares_of_odds(10))"
      ]
    },
    {
      "cell_type": "markdown",
      "metadata": {
        "id": "sP_ZRsqkYwDp"
      },
      "source": [
        "### Task 1.6: Map - Convert Temperature from Celsius to Fahrenheit\n",
        "Write a function `convert_to_fahrenheit(celsius_list)` that:\n",
        "- Takes a list of temperatures in Celsius (`celsius_list`) as an argument.\n",
        "- Uses `map()` to convert each temperature to Fahrenheit using the formula: `F = C * 9/5 + 32`.\n",
        "- Returns a list of the converted Fahrenheit values.\n",
        "\n",
        "**Example:**\n",
        "```python\n",
        "convert_to_fahrenheit([0, 25, 30, 100])\n",
        "```\n",
        "**Expected Output:** `[32.0, 77.0, 86.0, 212.0]`"
      ]
    },
    {
      "cell_type": "code",
      "execution_count": null,
      "metadata": {
        "id": "I6Jk1BCsYwDp"
      },
      "outputs": [],
      "source": [
        "def convert_to_fahrenheit(celsius_list):\n",
        "    '''your code'''\n",
        "\n",
        "\n",
        "\n",
        "print(convert_to_fahrenheit([0, 25, 30, 100]))\n",
        "\n"
      ]
    },
    {
      "cell_type": "markdown",
      "metadata": {
        "id": "PasJt0S2YwDp"
      },
      "source": [
        "### Task 1.7: Filter - Words Longer than 5 Characters\n",
        "Write a function `long_words(words)` that:\n",
        "- Takes a list of strings `words` as an argument.\n",
        "- Uses `filter()` to return a list of only the words that are longer than 5 characters.\n",
        "\n",
        "**Example:**\n",
        "```python\n",
        "long_words(['apple', 'banana', 'kiwi', 'strawberry', 'pear'])\n",
        "```\n",
        "**Expected Output:** `['banana', 'strawberry']`\n",
        "```\n"
      ]
    },
    {
      "cell_type": "code",
      "execution_count": null,
      "metadata": {
        "id": "cSjZC-9wYwDp"
      },
      "outputs": [],
      "source": [
        "def long_words(words):\n",
        "    '''your code'''\n",
        "\n",
        "\n",
        "print(long_words(['apple', 'banana', 'kiwi', 'strawberry', 'pear']))\n"
      ]
    },
    {
      "cell_type": "markdown",
      "metadata": {
        "id": "nJ3nTjzSYwDp"
      },
      "source": [
        "# Task 2: NumPy\n",
        "\n",
        "## Part 1: Creating Matrices\n",
        "\n",
        "### 2.1 Random Integer Matrix\n",
        "Write a function `random_integer_matrix(rows, cols, low, high)` that:\n",
        "- Takes four arguments: `rows`, `cols`, `low`, and `high`.\n",
        "- Uses `np.random.randint()` to create a matrix of shape `(rows, cols)` filled with random integers between `low` (inclusive) and `high` (exclusive).\n",
        "- Returns the created matrix.\n",
        "\n",
        "**Example:**\n",
        "```python\n",
        "random_integer_matrix(3, 4, 1, 10)\n",
        "```\n",
        "\n",
        "**Expected Output:**\n",
        "```\n",
        "([[4, 1, 7, 2],\n",
        " [3, 9, 5, 6],\n",
        " [8, 2, 3, 4]])\n",
        "```"
      ]
    },
    {
      "cell_type": "code",
      "execution_count": null,
      "metadata": {
        "id": "3s9bv9EuYwDp"
      },
      "outputs": [],
      "source": [
        "import numpy as np"
      ]
    },
    {
      "cell_type": "code",
      "execution_count": null,
      "metadata": {
        "id": "ygUif9cWYwDp"
      },
      "outputs": [],
      "source": [
        "def random_integer_matrix(rows, cols, low, high):\n",
        "    '''your code'''\n",
        "\n",
        "\n",
        "\n",
        "result = random_integer_matrix(3, 4, 1, 10)\n",
        "print(result)\n"
      ]
    },
    {
      "cell_type": "markdown",
      "metadata": {
        "id": "OPiYj8pmYwDp"
      },
      "source": [
        "### 2.2 Linear Space Matrix\n",
        "Write a function `linear_space_matrix(start, stop, num)` that:\n",
        "- Takes three arguments: `start`, `stop`, and `num`.\n",
        "- Uses `np.linspace()` to create a 1D array of `num` evenly spaced values between `start` and `stop`.\n",
        "- Reshape the array into a 2D matrix with shape `(num, 1)` and return it.\n",
        "\n",
        "**Example:**\n",
        "```python\n",
        "linear_space_matrix(0, 1, 5)\n",
        "```\n",
        "\n",
        "**Expected Output:**\n",
        "```\n",
        "array([[0.  ],\n",
        "       [0.25],\n",
        "       [0.5 ],\n",
        "       [0.75],\n",
        "       [1.  ]])\n",
        "```\n"
      ]
    },
    {
      "cell_type": "code",
      "execution_count": null,
      "metadata": {
        "id": "jmg0Yg5eYwDp"
      },
      "outputs": [],
      "source": [
        "def linear_space_matrix(start, stop, num):\n",
        "    '''your code'''\n",
        "\n",
        "\n",
        "# Example usage:\n",
        "result = linear_space_matrix(0, 1, 5)\n",
        "print(result)\n"
      ]
    },
    {
      "cell_type": "markdown",
      "metadata": {
        "id": "e5oxyABNYwDp"
      },
      "source": [
        "## Part 2: Indexing and Slicing\n",
        "\n",
        "### 2.3 Row and Column Slicing\n",
        "Write a function `slice_matrix(matrix)` that:\n",
        "- Takes a 2D NumPy array `matrix` as an argument.\n",
        "- Returns the second row and the first column of the matrix.\n",
        "\n",
        "**Example:**\n",
        "```python\n",
        "import numpy as np\n",
        "matrix = np.array([[1, 2, 3], [4, 5, 6], [7, 8, 9]])\n",
        "slice_matrix(matrix)\n",
        "```\n",
        "\n",
        "**Expected Output:**\n",
        "```\n",
        "Second row: [4, 5, 6]\n",
        "First column: [1, 4, 7]\n",
        "```"
      ]
    },
    {
      "cell_type": "code",
      "execution_count": null,
      "metadata": {
        "id": "Jw5arO2OYwDq"
      },
      "outputs": [],
      "source": [
        "def slice_matrix(matrix):\n",
        "    '''your code'''\n",
        "    return None, None\n",
        "\n",
        "\n",
        "\n",
        "matrix = np.array([[1, 2, 3], [4, 5, 6], [7, 8, 9]])\n",
        "second_row, first_column = slice_matrix(matrix)\n",
        "print(\"Second row:\", second_row)\n",
        "print(\"First column:\", first_column)\n"
      ]
    },
    {
      "cell_type": "markdown",
      "metadata": {
        "id": "asqPUnZ2YwDq"
      },
      "source": [
        "### 2.4 Conditional Indexing\n",
        "Write a function `conditional_filter(matrix)` that:\n",
        "- Takes a 2D NumPy array `matrix` as an argument.\n",
        "- Returns a 1D array containing all values greater than a specified threshold (e.g., `5`).\n",
        "\n",
        "**Example:**\n",
        "```python\n",
        "import numpy as np\n",
        "matrix = np.array([[1, 6, 3], [8, 5, 7], [2, 10, 9]])\n",
        "conditional_filter(matrix)\n",
        "```\n",
        "\n",
        "**Expected Output:**\n",
        "```\n",
        "array([ 6,  8,  7, 10,  9])\n",
        "```\n"
      ]
    },
    {
      "cell_type": "code",
      "execution_count": null,
      "metadata": {
        "id": "ILbZWIHlYwDq"
      },
      "outputs": [],
      "source": [
        "def conditional_filter(matrix, threshold = 5):\n",
        "    '''your code'''\n",
        "\n",
        "\n",
        "\n",
        "matrix = np.array([[1, 6, 3], [8, 5, 7], [2, 10, 9]])\n",
        "result = conditional_filter(matrix)\n",
        "print(result)\n"
      ]
    },
    {
      "cell_type": "markdown",
      "metadata": {
        "id": "lBEOiygYYwDq"
      },
      "source": [
        "## Part 3: Matrix Operations\n",
        "\n",
        "\n",
        "### 2.5: Matrix Multiplication with Dimension Check and Error Handling\n",
        "\n",
        "#### Problem Statement\n",
        "Write a function `multiply_matrices(A, B)` that:\n",
        "- Takes two 2D NumPy arrays `A` and `B` as arguments.\n",
        "- Checks the dimensions:\n",
        "  - If the matrices are compatible, multiply them using both the `@` operator and `np.dot()`.\n",
        "  - If not compatible, check if transposing either matrix could work. If still incompatible, print an error message.\n",
        "\n",
        "**Example:**\n",
        "```python\n",
        "      A = np.array([[1, 2], [3, 4]])\n",
        "      B = np.array([[5, 6], [7, 8]])\n",
        "      result = multiply_matrices(A, B)\n",
        "```\n",
        "\n",
        "**Expected Output:**\n",
        "For compatible dimensions:\n",
        "```plaintext\n",
        "Result using @ operator:\n",
        " [[19 22]\n",
        " [43 50]]\n",
        "Result using np.dot:\n",
        " [[19 22]\n",
        " [43 50]]\n",
        "```\n",
        "\n",
        "For incompatible dimensions:\n",
        "```plaintext\n",
        "Error: Incompatible dimensions for matrix multiplication.\n",
        "```\n",
        "\n"
      ]
    },
    {
      "cell_type": "code",
      "execution_count": null,
      "metadata": {
        "id": "uazy3nlFYwDq"
      },
      "outputs": [],
      "source": [
        "def multiply_matrices(A, B):\n",
        "    '''your code'''\n",
        "    return None, None\n",
        "\n",
        "# Example usage:\n",
        "A = np.array([[1, 2], [3, 4]])\n",
        "B = np.array([[5, 6], [7, 8]])\n",
        "result = multiply_matrices(A, B)\n",
        "\n",
        "if result[0] is not None:\n",
        "    print(\"Result using @ operator:\\n\", result[0])\n",
        "    print(\"Result using np.dot:\\n\", result[1])\n",
        "\n",
        "# Example with needed tanspose\n",
        "C = np.array([[5, 6, 7], [8, 9, 10]])\n",
        "result_T = multiply_matrices(A, C)\n",
        "\n",
        "if result_T[0] is not None:\n",
        "    print(\"Result using @ operator:\\n\", result_T[0])\n",
        "    print(\"Result using np.dot:\\n\", result_T[1])\n",
        "\n",
        "# Example with incompatible dimensions\n",
        "D = np.array([[1,2,3],[5, 6, 7], [8, 9, 10]])\n",
        "multiply_matrices(A, D)  # Should print an error\n",
        "\n"
      ]
    },
    {
      "cell_type": "markdown",
      "metadata": {
        "id": "wihUgAu8YwDq"
      },
      "source": [
        "### 2.6 Calculating Mean and Logical Operations\n",
        "Write a function `mean_and_filter(matrix)` that:\n",
        "- Takes a 2D NumPy array `matrix` as an argument.\n",
        "- Calculates the mean of each row using `np.mean()`.\n",
        "- Applies a logical condition using `np.logical_and()` to filter values that are:\n",
        "    - Greater than the mean of the respective rows.\n",
        "    - Less than the specified 'upper_limit'.\n",
        "\n",
        "**Example:**\n",
        "```python\n",
        "import numpy as np\n",
        "matrix = np.array([[1, 6, 3], [8, 5, 7], [2, 10, 9]])\n",
        "mean_and_filter(matrix)\n",
        "```\n",
        "\n",
        "**Expected Output:**\n",
        "```\n",
        "Row means: [3.33333333 6.66666667 7.        ]\n",
        "Filtered values: [array([6]), array([8, 7]), array([])]\n",
        "\n",
        "```"
      ]
    },
    {
      "cell_type": "code",
      "execution_count": null,
      "metadata": {
        "id": "_nWFxKpAYwDq"
      },
      "outputs": [],
      "source": [
        "def mean_and_filter(matrix, upper_limit):\n",
        "    '''your code'''\n",
        "    return None, None\n",
        "\n",
        "# Example usage:\n",
        "matrix = np.array([[1, 6, 3], [8, 5, 7], [2, 10, 9]])\n",
        "upper_limit = 9\n",
        "means, filtered = mean_and_filter(matrix, upper_limit)\n",
        "print(\"Row means:\", means)\n",
        "print(\"Filtered values:\", filtered)\n"
      ]
    },
    {
      "cell_type": "markdown",
      "metadata": {
        "id": "WX-_JiLuYwDq"
      },
      "source": [
        "# Task 3: Plotting with Matplotlib\n",
        "\n",
        "### 3.1 Plotting a Function\n",
        "\n",
        "Write a function `plot_sine_wave(start, stop, num_points)` that:\n",
        "- Takes three arguments: `start`, `stop`, and `num_points`.\n",
        "- Creates a sine wave using `np.sin` over a range of values from `start` to `stop` with `num_points` points.\n",
        "- Plots the sine wave using `plt.plot()` and customizes the plot with a title, labeled axes, and a grid.\n",
        "\n",
        "**Example Usage:**\n",
        "```python\n",
        "plot_sine_wave(0, 2 * np.pi, 100)\n",
        "```\n",
        "\n",
        "**Expected Plot:**\n",
        "- A smooth sine wave from $0$ to $2\\pi$, with labeled axes and a grid.\n",
        "\n"
      ]
    },
    {
      "cell_type": "code",
      "execution_count": null,
      "metadata": {
        "id": "0m6D8Q4kYwDq"
      },
      "outputs": [],
      "source": [
        "import matplotlib.pyplot as plt"
      ]
    },
    {
      "cell_type": "code",
      "execution_count": null,
      "metadata": {
        "id": "Gro6cymCYwDq"
      },
      "outputs": [],
      "source": [
        "def plot_sine_wave(start, stop, num_points):\n",
        "    '''your code'''\n",
        "\n",
        "\n",
        "# Example usage\n",
        "plot_sine_wave(0, 2 * np.pi, 100)\n"
      ]
    },
    {
      "cell_type": "markdown",
      "metadata": {
        "id": "WUt2sWkdYwDq"
      },
      "source": [
        "\n",
        "### 3.2 Plotting and Calculating the Area Under a Curve\n",
        "\n",
        "Write a function `plot_parabola_with_integral(a, b)` that:\n",
        "- Takes two arguments, `a` and `b`, which define the interval $[a, b]$.\n",
        "- Defines a function $ f(x) = x^2 $.\n",
        "- Plots $ f(x) $ over the interval $[a, b]$ and shades the area under the curve.\n",
        "- Calculates the area using `scipy.integrate.quad()` and displays it on the plot.\n",
        "\n",
        "**Example Usage:**\n",
        "```python\n",
        "plot_parabola_with_integral(0, 3)\n",
        "```\n",
        "\n",
        "**Expected Plot and Output:**\n",
        "- A plot of $f(x) = x^2 $ from $0$ to $3$, with the area under the curve shaded.\n",
        "- Display the calculated area as text on the plot.\n",
        "\n"
      ]
    },
    {
      "cell_type": "code",
      "execution_count": null,
      "metadata": {
        "id": "BRA7JTwAYwDq"
      },
      "outputs": [],
      "source": [
        "from scipy.integrate import quad"
      ]
    },
    {
      "cell_type": "code",
      "execution_count": null,
      "metadata": {
        "id": "SaNWEh2fYwDq"
      },
      "outputs": [],
      "source": [
        "def plot_parabola_with_integral(a, b):\n",
        "    '''your code'''\n",
        "\n",
        "\n",
        "# Example usage\n",
        "plot_parabola_with_integral(0, 3)\n"
      ]
    },
    {
      "cell_type": "markdown",
      "metadata": {
        "id": "Hq4QfMMHYwDq"
      },
      "source": [
        "\n",
        "\n",
        "\n",
        "### 3.3 Scatter Plot and Histogram\n",
        "\n",
        "Write a function `scatter_and_histogram(num_points)` that:\n",
        "- Takes `num_points` as an argument.\n",
        "- Generates `num_points` random data points for both `x` and `y` coordinates using `np.random.randn()`.\n",
        "- Creates a scatter plot for `x` and `y` values.\n",
        "- Plots a histogram of the `x` values on a separate subplot.\n",
        "\n",
        "**Example Usage:**\n",
        "```python\n",
        "scatter_and_histogram(100)\n",
        "```\n",
        "\n",
        "**Expected Plot:**\n",
        "- A scatter plot with random data points on one subplot.\n",
        "- A histogram showing the distribution of `x` values on another subplot.\n",
        "\n"
      ]
    },
    {
      "cell_type": "code",
      "execution_count": null,
      "metadata": {
        "id": "HuCL_3FqYwDq"
      },
      "outputs": [],
      "source": [
        "def scatter_and_histogram(num_points):\n",
        "    '''your code'''\n",
        "\n",
        "\n",
        "# Example usage\n",
        "scatter_and_histogram(100)\n"
      ]
    },
    {
      "cell_type": "markdown",
      "metadata": {
        "id": "gtEEb7ntYwDq"
      },
      "source": [
        "### 3.4 Overlaying Plots with Contour\n",
        "\n",
        "Write a function `contour_with_distribution_overlay()` that:\n",
        "- Creates a 2D grid of values for $x$ and $y$.\n",
        "- Defines a Gaussian-like 2D function $f(x, y) = e^{-(x^2 + y^2)}$.\n",
        "- Plots a contour plot of $f(x, y)$.\n",
        "- Adds an overlaid line plot of a 1D Gaussian distribution (e.g., $ g(x) = e^{-x^2} $) along the $x$-axis for visual comparison.\n",
        "\n",
        "**Example Usage:**\n",
        "```python\n",
        "contour_with_distribution_overlay()\n",
        "```\n",
        "\n",
        "**Expected Plot:**\n",
        "- A contour plot of $f(x, y)$ with an overlaid line plot representing a Gaussian distribution along the $x$-axis."
      ]
    },
    {
      "cell_type": "code",
      "execution_count": null,
      "metadata": {
        "id": "x5eSX722YwDr"
      },
      "outputs": [],
      "source": [
        "def contour_with_distribution_overlay():\n",
        "    '''your code'''\n",
        "\n",
        "\n",
        "# Example usage\n",
        "contour_with_distribution_overlay()\n"
      ]
    },
    {
      "cell_type": "markdown",
      "metadata": {
        "id": "xrGiG8afYwDr"
      },
      "source": [
        "# Task 4: Broadcasting in NumPy\n",
        "\n",
        "Before working on these exercises make yourself familiar with the concept of [broadcasting in NumPy](https://numpy.org/devdocs/user/basics.broadcasting.html).\n",
        "### 4.1 Scalar and Array Broadcasting\n",
        "\n",
        "Write a function `add_scalar_to_array(arr, scalar)` that:\n",
        "- Takes an array `arr` and a scalar `scalar`.\n",
        "- Adds the scalar to each element in `arr` using broadcasting.\n",
        "- Returns the result.\n",
        "\n",
        "**Example Usage:**\n",
        "```python\n",
        "arr = np.array([1, 2, 3, 4])\n",
        "add_scalar_to_array(arr, 5)\n",
        "```\n",
        "\n",
        "**Expected Output:**\n",
        "```\n",
        "array([6, 7, 8, 9])\n",
        "```\n",
        "\n",
        "\n"
      ]
    },
    {
      "cell_type": "code",
      "execution_count": null,
      "metadata": {
        "id": "o4oLJ_ivYwDv"
      },
      "outputs": [],
      "source": [
        "def add_scalar_to_array(arr, scalar):\n",
        "    '''your code'''\n",
        "\n",
        "\n",
        "# Example usage:\n",
        "arr = np.array([1, 2, 3, 4])\n",
        "result = add_scalar_to_array(arr, 5)\n",
        "print(\"Result:\", result)\n"
      ]
    },
    {
      "cell_type": "markdown",
      "metadata": {
        "id": "B6smxRfHYwDv"
      },
      "source": [
        "### 4.2 Row-wise and Column-wise Operations\n",
        "\n",
        "Write a function `row_column_operations(matrix, row_vector, column_vector)` that:\n",
        "- Takes a 2D NumPy array `matrix`, a 1D `row_vector`, and a 1D `column_vector`.\n",
        "- Adds `row_vector` to each row of `matrix` and `column_vector` to each column of `matrix` using broadcasting.\n",
        "- Returns the resulting matrix after both operations.\n",
        "\n",
        "**Example Usage:**\n",
        "```python\n",
        "matrix = np.array([[1, 2], [3, 4]])\n",
        "row_vector = np.array([10, 20])\n",
        "column_vector = np.array([5, 15])\n",
        "row_column_operations(matrix, row_vector, column_vector)\n",
        "```\n",
        "\n",
        "**Expected Output:**\n",
        "```\n",
        "array([[16, 27],\n",
        "       [28, 39]])\n",
        "```"
      ]
    },
    {
      "cell_type": "code",
      "execution_count": null,
      "metadata": {
        "id": "NyabSBJyYwDv"
      },
      "outputs": [],
      "source": [
        "def row_column_operations(matrix, row_vector, column_vector):\n",
        "     '''your code'''\n",
        "\n",
        "\n",
        "# Example usage:\n",
        "matrix = np.array([[1, 2], [3, 4]])\n",
        "row_vector = np.array([10, 20])\n",
        "column_vector = np.array([5, 15])\n",
        "result = row_column_operations(matrix, row_vector, column_vector)\n",
        "print(\"Result:\\n\", result)\n"
      ]
    },
    {
      "cell_type": "markdown",
      "metadata": {
        "id": "F_UkfoOZYwDv"
      },
      "source": [
        "\n",
        "### 4.3 Element-wise Operations with Different Shapes\n",
        "\n",
        "Write a function `elementwise_product_with_column(matrix, column_vector)` that:\n",
        "- Takes a 2D NumPy array `matrix` and a 1D NumPy array `column_vector`.\n",
        "- Multiplies each row of the `matrix` by the corresponding element in `column_vector` (using broadcasting).\n",
        "- Returns the resulting matrix.\n",
        "\n",
        "**Example Usage:**\n",
        "```python\n",
        "matrix = np.array([[1, 2, 3], [4, 5, 6], [7, 8, 9]])\n",
        "column_vector = np.array([1, 2, 3])\n",
        "elementwise_product_with_column(matrix, column_vector)\n",
        "```\n",
        "\n",
        "**Expected Output:**\n",
        "```\n",
        "array([[ 1,  2,  3],\n",
        "       [ 8, 10, 12],\n",
        "       [21, 24, 27]])\n",
        "```\n",
        "\n"
      ]
    },
    {
      "cell_type": "code",
      "execution_count": null,
      "metadata": {
        "id": "2WWWTfmjYwDv"
      },
      "outputs": [],
      "source": [
        "def elementwise_product_with_column(matrix, column_vector):\n",
        "    '''your code'''\n",
        "\n",
        "\n",
        "# Example usage\n",
        "matrix = np.array([[1, 2, 3], [4, 5, 6], [7, 8, 9]])\n",
        "column_vector = np.array([1, 2, 3])\n",
        "result = elementwise_product_with_column(matrix, column_vector)\n",
        "print(result)\n"
      ]
    },
    {
      "cell_type": "markdown",
      "metadata": {
        "id": "6m92PWWzYwDv"
      },
      "source": [
        "\n",
        "### 4.4: Normalizing Rows in a Matrix\n",
        "\n",
        "Write a function `normalize_rows(matrix)` that:\n",
        "- Takes a 2D NumPy array `matrix`.\n",
        "- Computes the sum of each row and then normalizes each row by dividing each element by the row’s sum (using broadcasting).\n",
        "- Returns the row-normalized matrix.\n",
        "\n",
        "**Example Usage:**\n",
        "```python\n",
        "matrix = np.array([[1, 2, 3], [4, 5, 6], [7, 8, 9]])\n",
        "normalize_rows(matrix)\n",
        "```\n",
        "\n",
        "**Expected Output:**\n",
        "```\n",
        "array([[0.1667, 0.3333, 0.5   ],\n",
        "       [0.2667, 0.3333, 0.4   ],\n",
        "       [0.2917, 0.3333, 0.375 ]])\n",
        "```\n",
        "\n",
        "\n",
        "\n",
        "These tasks build upon the first two exercises, leading into complex applications and setting a foundation for understanding broadcasting with probability tables in the upcoming Bayesian Network exercise. Let me know when you’re ready to see the solutions for these!"
      ]
    },
    {
      "cell_type": "code",
      "execution_count": null,
      "metadata": {
        "id": "HjIKfGEpYwDv"
      },
      "outputs": [],
      "source": [
        "def normalize_rows(matrix):\n",
        "    '''your code'''\n",
        "\n",
        "\n",
        "# Example usage\n",
        "matrix = np.array([[1, 2, 3], [4, 5, 6], [7, 8, 9]])\n",
        "normalized_result = normalize_rows(matrix)\n",
        "print(normalized_result)\n"
      ]
    }
  ],
  "metadata": {
    "kernelspec": {
      "display_name": "Python 3",
      "language": "python",
      "name": "python3"
    },
    "language_info": {
      "codemirror_mode": {
        "name": "ipython",
        "version": 3
      },
      "file_extension": ".py",
      "mimetype": "text/x-python",
      "name": "python",
      "nbconvert_exporter": "python",
      "pygments_lexer": "ipython3",
      "version": "3.12.4"
    },
    "colab": {
      "provenance": [],
      "include_colab_link": true
    }
  },
  "nbformat": 4,
  "nbformat_minor": 0
}